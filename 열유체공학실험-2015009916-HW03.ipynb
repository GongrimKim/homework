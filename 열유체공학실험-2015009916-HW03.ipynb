{
  "nbformat": 4,
  "nbformat_minor": 0,
  "metadata": {
    "colab": {
      "name": "Untitled2.ipynb",
      "provenance": [],
      "include_colab_link": true
    },
    "kernelspec": {
      "name": "python3",
      "display_name": "Python 3"
    }
  },
  "cells": [
    {
      "cell_type": "markdown",
      "metadata": {
        "id": "view-in-github",
        "colab_type": "text"
      },
      "source": [
        "<a href=\"https://colab.research.google.com/github/GongrimKim/homework/blob/master/%EC%97%B4%EC%9C%A0%EC%B2%B4%EA%B3%B5%ED%95%99%EC%8B%A4%ED%97%98-2015009916-HW03.ipynb\" target=\"_parent\"><img src=\"https://colab.research.google.com/assets/colab-badge.svg\" alt=\"Open In Colab\"/></a>"
      ]
    },
    {
      "cell_type": "code",
      "metadata": {
        "id": "V6eWR7-_SMWy",
        "colab_type": "code",
        "colab": {
          "base_uri": "https://localhost:8080/",
          "height": 53
        },
        "outputId": "85b6aff5-b674-4a58-ae86-27270ac2dce7"
      },
      "source": [
        "import numpy as np\n",
        "def function(Num):\n",
        "  x = np.arange(1,10)\n",
        "  x = Num * x\n",
        "  print(x)\n",
        "\n",
        "Num = int(input())\n",
        "result = function(Num)"
      ],
      "execution_count": 6,
      "outputs": [
        {
          "output_type": "stream",
          "text": [
            "5\n",
            "[ 5 10 15 20 25 30 35 40 45]\n"
          ],
          "name": "stdout"
        }
      ]
    }
  ]
}